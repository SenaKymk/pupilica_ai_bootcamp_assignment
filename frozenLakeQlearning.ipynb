{
  "nbformat": 4,
  "nbformat_minor": 0,
  "metadata": {
    "colab": {
      "provenance": [],
      "authorship_tag": "ABX9TyOOpTQSZVinmbu3IIHtGG8h",
      "include_colab_link": true
    },
    "kernelspec": {
      "name": "python3",
      "display_name": "Python 3"
    },
    "language_info": {
      "name": "python"
    }
  },
  "cells": [
    {
      "cell_type": "markdown",
      "metadata": {
        "id": "view-in-github",
        "colab_type": "text"
      },
      "source": [
        "<a href=\"https://colab.research.google.com/github/SenaKymk/pupilica_ai_bootcamp_assignment/blob/main/frozenLakeQlearning.ipynb\" target=\"_parent\"><img src=\"https://colab.research.google.com/assets/colab-badge.svg\" alt=\"Open In Colab\"/></a>"
      ]
    },
    {
      "cell_type": "code",
      "execution_count": 30,
      "metadata": {
        "colab": {
          "base_uri": "https://localhost:8080/"
        },
        "id": "l3sZwQ4MAiJ7",
        "outputId": "c37bceb1-e977-443e-877c-6054401bb79f"
      },
      "outputs": [
        {
          "output_type": "stream",
          "name": "stdout",
          "text": [
            "Requirement already satisfied: gym in /usr/local/lib/python3.11/dist-packages (0.25.2)\n",
            "Requirement already satisfied: numpy>=1.18.0 in /usr/local/lib/python3.11/dist-packages (from gym) (2.0.2)\n",
            "Requirement already satisfied: cloudpickle>=1.2.0 in /usr/local/lib/python3.11/dist-packages (from gym) (3.1.1)\n",
            "Requirement already satisfied: gym-notices>=0.0.4 in /usr/local/lib/python3.11/dist-packages (from gym) (0.0.8)\n"
          ]
        }
      ],
      "source": [
        "pip install gym"
      ]
    },
    {
      "cell_type": "code",
      "source": [
        "import matplotlib.pyplot as plt\n",
        "import gym\n",
        "import numpy as np\n",
        "from IPython.display import clear_output\n",
        "import random\n"
      ],
      "metadata": {
        "id": "K4zswwj7FdM-"
      },
      "execution_count": 31,
      "outputs": []
    },
    {
      "cell_type": "markdown",
      "source": [
        "\n",
        "\n",
        "*   Gym kütüphanesinden FrozenLake ortamını başlatır.\n",
        "\n",
        "*   is_slippery=False → deterministik, buz kaymıyor\n",
        "\n"
      ],
      "metadata": {
        "id": "cDygjIa90tnp"
      }
    },
    {
      "cell_type": "code",
      "source": [
        "environment =gym.make(\"FrozenLake-v1\", is_slippery =False)\n",
        "environment.reset()"
      ],
      "metadata": {
        "colab": {
          "base_uri": "https://localhost:8080/"
        },
        "id": "RNOl0pwJFmBU",
        "outputId": "a9a98caa-cbeb-4f22-f545-a9fa61fea6d8"
      },
      "execution_count": 32,
      "outputs": [
        {
          "output_type": "execute_result",
          "data": {
            "text/plain": [
              "0"
            ]
          },
          "metadata": {},
          "execution_count": 32
        }
      ]
    },
    {
      "cell_type": "markdown",
      "source": [
        "\n",
        "\n",
        "*   **environment.observation_space →** Ortamın kaç farklı durum (state) olduğunu söyler. 4x4= 16 farklı kare vardır\n",
        "* **environment.action_space →** Ortamın kaç farklı aksiyon (action) olduğunu söyler.Her durumda 4 aksiyon seçebilirsin:\n",
        "\n",
        "0: Sol (Left)\n",
        "\n",
        "1: Aşağı (Down)\n",
        "\n",
        "2: Sağ (Right)\n",
        "\n",
        "3: Yukarı (Up)\n",
        "\n",
        "* **Q-table**, her durum için her aksiyonun beklenen toplam ödülünü saklayan tablo.\n",
        "Boyutu= (durum sayısı) x (aksiyon sayısı)Öğrenme sürecinde (Q-learning güncellemeleriyle), Q-table’daki 0 lar keşfettikçe değişir.\n"
      ],
      "metadata": {
        "id": "JfS54mRy06O-"
      }
    },
    {
      "cell_type": "code",
      "source": [
        "nb_states = environment.observation_space.n\n",
        "nb_actions = environment.action_space.n\n",
        "qtable =np.zeros((nb_states, nb_actions))"
      ],
      "metadata": {
        "id": "EVee_t0CFsy_"
      },
      "execution_count": 42,
      "outputs": []
    },
    {
      "cell_type": "markdown",
      "source": [
        "**episodes:** kaç kez deneyecek.\n",
        "\n",
        "**alpha:** ne kadar hızlı öğreniyor (0.5 → ortalama hız).\n",
        "\n",
        "**gamma:** gelecekteki ödüller ne kadar önemli (0.9 → çok önemli!)."
      ],
      "metadata": {
        "id": "XRvEolcR148B"
      }
    },
    {
      "cell_type": "code",
      "source": [
        "episodes =500\n",
        "alpha = 0.5\n",
        "gamma = 0.9\n",
        "outcomes=[]\n",
        "print(f\"q table before training:{qtable}\")"
      ],
      "metadata": {
        "colab": {
          "base_uri": "https://localhost:8080/"
        },
        "id": "RhxkgizCFzko",
        "outputId": "f4c271d0-766e-472d-e9d3-de79bb12bc30"
      },
      "execution_count": 34,
      "outputs": [
        {
          "output_type": "stream",
          "name": "stdout",
          "text": [
            "q table before training:[[0. 0. 0. 0.]\n",
            " [0. 0. 0. 0.]\n",
            " [0. 0. 0. 0.]\n",
            " [0. 0. 0. 0.]\n",
            " [0. 0. 0. 0.]\n",
            " [0. 0. 0. 0.]\n",
            " [0. 0. 0. 0.]\n",
            " [0. 0. 0. 0.]\n",
            " [0. 0. 0. 0.]\n",
            " [0. 0. 0. 0.]\n",
            " [0. 0. 0. 0.]\n",
            " [0. 0. 0. 0.]\n",
            " [0. 0. 0. 0.]\n",
            " [0. 0. 0. 0.]\n",
            " [0. 0. 0. 0.]\n",
            " [0. 0. 0. 0.]]\n"
          ]
        }
      ]
    },
    {
      "cell_type": "markdown",
      "source": [
        "**Bu kısım, 500 bölüm boyunca (episodes=500) ortamı deneyip Q-table’ı güncelliyor.**\n",
        "\n",
        "**Amaç:** Her bölümde doğru yolda nasıl gidileceğini öğrenmek ve Q-table’ı doldurmak"
      ],
      "metadata": {
        "id": "Eo8RjRey2FZs"
      }
    },
    {
      "cell_type": "code",
      "source": [
        "for episode in range(episodes):\n",
        "    state = environment.reset() #Ortamı sıfırlar, ilk kare (S) olarak başlatır.\n",
        "    done = False  # Ekle\n",
        "    outcomes.append(\"failure\")  # Başlangıçta başarısızlık varsay\n",
        "\n",
        "    while not done: # Hedefe varılana veya deliğe düşünceye kadar adım at.\n",
        "\n",
        "        if np.max(qtable[state]) == 0: #Eğer o karede hiç bilgi yoksa : rastgele hareket et\n",
        "            action = environment.action_space.sample()\n",
        "\n",
        "        #Eğer daha önce denendi ve Q-tableda bilgi varsaen yüksek Q değeri olan aksiyonu seç\n",
        "        else:\n",
        "            action = np.argmax(qtable[state])\n",
        "\n",
        "        done = bool(done)   # numpy.bool8 hatasına karşı önlem\n",
        "        new_state, reward, done, info = environment.step(action) #Seçilen aksiyonu uygula, yeni duruma geç\n",
        "        done = bool(done)\n",
        "\n",
        "\n",
        "        # Q-table update !! burda hataya göre qtable güncellenir.\n",
        "        qtable[state, action] = qtable[state, action] + alpha * (reward + gamma * np.max(qtable[new_state]) - qtable[state, action])\n",
        "\n",
        "        state = new_state\n",
        "\n",
        "        if done and reward:\n",
        "\n",
        "            outcomes.pop()  # Eğer hedefe ulaşmışsan (reward > 0 ve done=True), başarısızlık kaydını sil.Sonra “success” ekle.\n",
        "            outcomes.append(\"success\")\n",
        "            break\n"
      ],
      "metadata": {
        "id": "83dJkHH-GD5s"
      },
      "execution_count": 36,
      "outputs": []
    },
    {
      "cell_type": "code",
      "source": [
        "print()\n",
        "print(f\"q table after training:\\n{qtable}\")\n",
        "# q table ın son hali"
      ],
      "metadata": {
        "colab": {
          "base_uri": "https://localhost:8080/"
        },
        "id": "yrdzoiMyIVcf",
        "outputId": "c3cd861c-72e0-4a5b-a6fb-929848dae4c0"
      },
      "execution_count": 37,
      "outputs": [
        {
          "output_type": "stream",
          "name": "stdout",
          "text": [
            "\n",
            "q table after training:\n",
            "[[0.      0.59049 0.      0.     ]\n",
            " [0.      0.      0.      0.     ]\n",
            " [0.      0.      0.      0.     ]\n",
            " [0.      0.      0.      0.     ]\n",
            " [0.      0.6561  0.      0.     ]\n",
            " [0.      0.      0.      0.     ]\n",
            " [0.      0.      0.      0.     ]\n",
            " [0.      0.      0.      0.     ]\n",
            " [0.      0.      0.729   0.     ]\n",
            " [0.      0.      0.81    0.     ]\n",
            " [0.      0.9     0.      0.     ]\n",
            " [0.      0.      0.      0.     ]\n",
            " [0.      0.      0.      0.     ]\n",
            " [0.      0.      0.225   0.     ]\n",
            " [0.      0.      1.      0.     ]\n",
            " [0.      0.      0.      0.     ]]\n"
          ]
        }
      ]
    },
    {
      "cell_type": "markdown",
      "source": [
        "eğitim sırasında 500 bölüm boyunca başarılı mı, başarısızlık mı olduğunu çubuk grafik (bar plot) olarak çizdirir"
      ],
      "metadata": {
        "id": "i4NFlJDs4KLe"
      }
    },
    {
      "cell_type": "code",
      "source": [
        "plt.figure()\n",
        "plt.xlabel(\"episode num\")\n",
        "plt.ylabel(\"outcome\")\n",
        "ax= plt.gca()\n",
        "ax.set_facecolor(\"#efeeea\")\n",
        "plt.bar(range(len(outcomes)),outcomes, color = \"red\",width=1)\n",
        "plt.show()\n"
      ],
      "metadata": {
        "colab": {
          "base_uri": "https://localhost:8080/",
          "height": 449
        },
        "id": "t9o5K4ZeJR29",
        "outputId": "c73867cf-3e45-4654-a793-184c81aeddec"
      },
      "execution_count": 38,
      "outputs": [
        {
          "output_type": "display_data",
          "data": {
            "text/plain": [
              "<Figure size 640x480 with 1 Axes>"
            ],
            "image/png": "[encoded data removed]"
          },
          "metadata": {}
        }
      ]
    },
    {
      "cell_type": "markdown",
      "source": [
        "FrozenLake ortamının haritasını (4x4 ızgarayı) çizip politikayı (hangi karede hangi yönde hareket edileceğini) oklarla görselleştiriyor."
      ],
      "metadata": {
        "id": "Fy3XTl5e4ccm"
      }
    },
    {
      "cell_type": "code",
      "source": [
        "import matplotlib.pyplot as plt\n",
        "import numpy as np\n",
        "\n",
        "def plot_frozenlake(env, policy=None):\n",
        "    grid_size = int(np.sqrt(env.observation_space.n))\n",
        "    grid = np.zeros((grid_size, grid_size))\n",
        "    directions = ['←', '↓', '→', '↑']\n",
        "\n",
        "    fig, ax = plt.subplots()\n",
        "    ax.set_xlim(0, grid_size)\n",
        "    ax.set_ylim(0, grid_size)\n",
        "\n",
        "    for state in range(env.observation_space.n):\n",
        "        row = state // grid_size\n",
        "        col = state % grid_size\n",
        "\n",
        "        desc = env.unwrapped.desc[row][col].decode('utf-8')\n",
        "\n",
        "        # Kareyi boyayalım\n",
        "        if desc == 'S':\n",
        "            color = 'green'\n",
        "        elif desc == 'H':\n",
        "            color = 'black'\n",
        "        elif desc == 'G':\n",
        "            color = 'gold'\n",
        "        else:\n",
        "            color = 'skyblue'\n",
        "\n",
        "        rect = plt.Rectangle((col, grid_size - row - 1), 1, 1, facecolor=color, edgecolor='gray')\n",
        "        ax.add_patch(rect)\n",
        "\n",
        "        # Politika oku\n",
        "        if policy is not None:\n",
        "            action = policy[state]\n",
        "            ax.text(col+0.5, grid_size-row-0.5, directions[action], ha='center', va='center', color='white', fontsize=20)\n",
        "\n",
        "    plt.grid(True)\n",
        "    plt.show()\n"
      ],
      "metadata": {
        "id": "gRiDC9WLMLc2"
      },
      "execution_count": 39,
      "outputs": []
    },
    {
      "cell_type": "code",
      "source": [
        "best_policy = np.argmax(qtable, axis=1)\n",
        "plot_frozenlake(environment, policy=best_policy)\n"
      ],
      "metadata": {
        "colab": {
          "base_uri": "https://localhost:8080/",
          "height": 435
        },
        "id": "Xs2wwC-nMQZt",
        "outputId": "d56a7923-2c63-479a-cd2f-f242f94303f3"
      },
      "execution_count": 40,
      "outputs": [
        {
          "output_type": "display_data",
          "data": {
            "text/plain": [
              "<Figure size 640x480 with 1 Axes>"
            ],
            "image/png": "[encoded data removed]"
          },
          "metadata": {}
        }
      ]
    },
    {
      "cell_type": "markdown",
      "source": [
        "FrozenLake ortamındaki her bir durumun (state) ne kadar “değerli” olduğunu (öğrenilmiş Q-table verilerine göre) renkli bir ısı haritası (heatmap) olarak görselleştiriyor."
      ],
      "metadata": {
        "id": "1qRMH2l54kZa"
      }
    },
    {
      "cell_type": "code",
      "source": [
        "v_values = np.max(qtable, axis=1).reshape((4, 4))\n",
        "plt.imshow(v_values, cmap='viridis')\n",
        "plt.colorbar()\n",
        "plt.title(\"State Values (V)\")\n",
        "plt.show()\n"
      ],
      "metadata": {
        "colab": {
          "base_uri": "https://localhost:8080/",
          "height": 452
        },
        "id": "cRxS1RjTMUO1",
        "outputId": "0f82aa3f-0458-46b6-864e-8f49fcbfcb2d"
      },
      "execution_count": 41,
      "outputs": [
        {
          "output_type": "display_data",
          "data": {
            "text/plain": [
              "<Figure size 640x480 with 2 Axes>"
            ],
            "image/png": "[encoded data removed]"
          },
          "metadata": {}
        }
      ]
    },
    {
      "cell_type": "markdown",
      "source": [
        "# EVALUATİON\n",
        "\n",
        "Bu kısım:\n",
        " * Eğitim sonrası, elde edilen Q-table’ın ne kadar iyi çalıştığını test eder.\n",
        " * 100 yeni denemede:\n",
        "    * Q-table kullanarak “en iyi hareketi” seç.\n",
        "    * Kaç defa hedefe ulaşıldığını say.\n"
      ],
      "metadata": {
        "id": "R87sNAJnMaJ0"
      }
    },
    {
      "cell_type": "code",
      "source": [
        "episodes = 100\n",
        "nb_successes = 0\n",
        "\n",
        "for episode in range(episodes):\n",
        "    state = environment.reset()\n",
        "    if isinstance(state, tuple):\n",
        "        state = state[0]\n",
        "    done = False\n",
        "\n",
        "    while not done:\n",
        "        if np.max(qtable[state]) > 0:\n",
        "            action = np.argmax(qtable[state])\n",
        "        else:\n",
        "            action = environment.action_space.sample()\n",
        "\n",
        "        new_state, reward, done, info = environment.step(action)\n",
        "        if isinstance(new_state, tuple):\n",
        "            new_state = new_state[0]\n",
        "        state = new_state\n",
        "\n",
        "        if done and reward:\n",
        "            nb_successes += 1\n",
        "\n",
        "print(f\"Number of successes: {nb_successes}/{episodes} ({100 * nb_successes / episodes:.2f}%)\")\n"
      ],
      "metadata": {
        "colab": {
          "base_uri": "https://localhost:8080/"
        },
        "id": "HxMr55ABMZvZ",
        "outputId": "1d4abc3b-a8a0-4ae1-bf76-5cf8698759e6"
      },
      "execution_count": 43,
      "outputs": [
        {
          "output_type": "stream",
          "name": "stdout",
          "text": [
            "Number of successes: 1/100 (1.00%)\n"
          ]
        }
      ]
    }
  ]
}