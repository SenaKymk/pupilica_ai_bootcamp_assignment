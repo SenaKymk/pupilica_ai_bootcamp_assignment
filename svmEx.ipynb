{
  "nbformat": 4,
  "nbformat_minor": 0,
  "metadata": {
    "colab": {
      "provenance": [],
      "authorship_tag": "ABX9TyPaZkfixHu6jpmu+RNkM5YW",
      "include_colab_link": true
    },
    "kernelspec": {
      "name": "python3",
      "display_name": "Python 3"
    },
    "language_info": {
      "name": "python"
    }
  },
  "cells": [
    {
      "cell_type": "markdown",
      "metadata": {
        "id": "view-in-github",
        "colab_type": "text"
      },
      "source": [
        "<a href=\"https://colab.research.google.com/github/SenaKymk/pupilica_ai_bootcamp_assignment/blob/main/svmEx.ipynb\" target=\"_parent\"><img src=\"https://colab.research.google.com/assets/colab-badge.svg\" alt=\"Open In Colab\"/></a>"
      ]
    },
    {
      "cell_type": "markdown",
      "source": [
        "#  SVM Classification on the Digits Dataset\n",
        "\n",
        "In this notebook, we apply Support Vector Machine (SVM) to the `load_digits` dataset, which contains images of handwritten digits (0-9).\n",
        "\n",
        "Our goal is to:\n",
        "- Visualize the dataset\n",
        "- Train an SVM model\n",
        "- Evaluate model performance"
      ],
      "metadata": {
        "id": "Rvtf6V05JSV0"
      }
    },
    {
      "cell_type": "code",
      "execution_count": 24,
      "metadata": {
        "id": "Gg1JI8MB_AVz"
      },
      "outputs": [],
      "source": [
        "from sklearn.model_selection import train_test_split\n",
        "from sklearn.metrics import accuracy_score, confusion_matrix, classification_report\n",
        "import pandas as pd\n",
        "import seaborn as sns\n",
        "import matplotlib.pyplot as plt\n",
        "from sklearn.datasets import load_digits\n",
        "import numpy as np\n",
        "from sklearn.pipeline import make_pipeline\n",
        "from sklearn.preprocessing import StandardScaler"
      ]
    },
    {
      "cell_type": "code",
      "source": [
        "digits = load_digits()"
      ],
      "metadata": {
        "id": "ejJvP7ukDb1d"
      },
      "execution_count": 25,
      "outputs": []
    },
    {
      "cell_type": "markdown",
      "source": [
        "## 🔎 Digits Dataset Visualization\n",
        "\n",
        "Below, we visualize a few sample images from the dataset to understand the structure of the data.\n",
        "Each image represents a handwritten digit in 8x8 pixel format.\n"
      ],
      "metadata": {
        "id": "7wd9k1mRJVhJ"
      }
    },
    {
      "cell_type": "code",
      "source": [
        "plt.figure(figsize=(10,10))\n",
        "for i in range(10):\n",
        "    plt.subplot(10,10,i+1)\n",
        "    plt.imshow(digits.images[i],cmap='gray')\n",
        "    plt.title(digits.target[i])\n",
        "    plt.axis('off')\n",
        "plt.show()"
      ],
      "metadata": {
        "colab": {
          "base_uri": "https://localhost:8080/",
          "height": 104
        },
        "id": "dG3HDMn5DgT2",
        "outputId": "f9e7cdae-bb37-466e-efb3-c70b36dee147"
      },
      "execution_count": 26,
      "outputs": [
        {
          "output_type": "display_data",
          "data": {
            "text/plain": [
              "<Figure size 1000x1000 with 10 Axes>"
            ],
            "image/png": "[encoded data removed]"
          },
          "metadata": {}
        }
      ]
    },
    {
      "cell_type": "code",
      "source": [
        "df= pd.DataFrame(data=digits.data)\n",
        "df.head(5)\n",
        "df.info()"
      ],
      "metadata": {
        "colab": {
          "base_uri": "https://localhost:8080/"
        },
        "id": "_tnw0SspD0Y7",
        "outputId": "8da9230a-47b0-4bca-d7bc-c2ee23540644"
      },
      "execution_count": 27,
      "outputs": [
        {
          "output_type": "stream",
          "name": "stdout",
          "text": [
            "<class 'pandas.core.frame.DataFrame'>\n",
            "RangeIndex: 1797 entries, 0 to 1796\n",
            "Data columns (total 64 columns):\n",
            " #   Column  Non-Null Count  Dtype  \n",
            "---  ------  --------------  -----  \n",
            " 0   0       1797 non-null   float64\n",
            " 1   1       1797 non-null   float64\n",
            " 2   2       1797 non-null   float64\n",
            " 3   3       1797 non-null   float64\n",
            " 4   4       1797 non-null   float64\n",
            " 5   5       1797 non-null   float64\n",
            " 6   6       1797 non-null   float64\n",
            " 7   7       1797 non-null   float64\n",
            " 8   8       1797 non-null   float64\n",
            " 9   9       1797 non-null   float64\n",
            " 10  10      1797 non-null   float64\n",
            " 11  11      1797 non-null   float64\n",
            " 12  12      1797 non-null   float64\n",
            " 13  13      1797 non-null   float64\n",
            " 14  14      1797 non-null   float64\n",
            " 15  15      1797 non-null   float64\n",
            " 16  16      1797 non-null   float64\n",
            " 17  17      1797 non-null   float64\n",
            " 18  18      1797 non-null   float64\n",
            " 19  19      1797 non-null   float64\n",
            " 20  20      1797 non-null   float64\n",
            " 21  21      1797 non-null   float64\n",
            " 22  22      1797 non-null   float64\n",
            " 23  23      1797 non-null   float64\n",
            " 24  24      1797 non-null   float64\n",
            " 25  25      1797 non-null   float64\n",
            " 26  26      1797 non-null   float64\n",
            " 27  27      1797 non-null   float64\n",
            " 28  28      1797 non-null   float64\n",
            " 29  29      1797 non-null   float64\n",
            " 30  30      1797 non-null   float64\n",
            " 31  31      1797 non-null   float64\n",
            " 32  32      1797 non-null   float64\n",
            " 33  33      1797 non-null   float64\n",
            " 34  34      1797 non-null   float64\n",
            " 35  35      1797 non-null   float64\n",
            " 36  36      1797 non-null   float64\n",
            " 37  37      1797 non-null   float64\n",
            " 38  38      1797 non-null   float64\n",
            " 39  39      1797 non-null   float64\n",
            " 40  40      1797 non-null   float64\n",
            " 41  41      1797 non-null   float64\n",
            " 42  42      1797 non-null   float64\n",
            " 43  43      1797 non-null   float64\n",
            " 44  44      1797 non-null   float64\n",
            " 45  45      1797 non-null   float64\n",
            " 46  46      1797 non-null   float64\n",
            " 47  47      1797 non-null   float64\n",
            " 48  48      1797 non-null   float64\n",
            " 49  49      1797 non-null   float64\n",
            " 50  50      1797 non-null   float64\n",
            " 51  51      1797 non-null   float64\n",
            " 52  52      1797 non-null   float64\n",
            " 53  53      1797 non-null   float64\n",
            " 54  54      1797 non-null   float64\n",
            " 55  55      1797 non-null   float64\n",
            " 56  56      1797 non-null   float64\n",
            " 57  57      1797 non-null   float64\n",
            " 58  58      1797 non-null   float64\n",
            " 59  59      1797 non-null   float64\n",
            " 60  60      1797 non-null   float64\n",
            " 61  61      1797 non-null   float64\n",
            " 62  62      1797 non-null   float64\n",
            " 63  63      1797 non-null   float64\n",
            "dtypes: float64(64)\n",
            "memory usage: 898.6 KB\n"
          ]
        }
      ]
    },
    {
      "cell_type": "code",
      "source": [
        "X= digits.data\n",
        "y= digits.target"
      ],
      "metadata": {
        "id": "O9tBJoZVDpPq"
      },
      "execution_count": 28,
      "outputs": []
    },
    {
      "cell_type": "code",
      "source": [
        "# print the names of the 13 features\n",
        "print(\"Features: \",digits.feature_names)\n",
        "\n",
        "# print the label type of cancer('malignant' 'benign')\n",
        "print(\"Labels: \", digits.target_names)\n"
      ],
      "metadata": {
        "colab": {
          "base_uri": "https://localhost:8080/"
        },
        "id": "ZNs470RGExqC",
        "outputId": "280c4791-fd09-4fe4-8fcf-44d45b42f37d"
      },
      "execution_count": 29,
      "outputs": [
        {
          "output_type": "stream",
          "name": "stdout",
          "text": [
            "Features:  ['pixel_0_0', 'pixel_0_1', 'pixel_0_2', 'pixel_0_3', 'pixel_0_4', 'pixel_0_5', 'pixel_0_6', 'pixel_0_7', 'pixel_1_0', 'pixel_1_1', 'pixel_1_2', 'pixel_1_3', 'pixel_1_4', 'pixel_1_5', 'pixel_1_6', 'pixel_1_7', 'pixel_2_0', 'pixel_2_1', 'pixel_2_2', 'pixel_2_3', 'pixel_2_4', 'pixel_2_5', 'pixel_2_6', 'pixel_2_7', 'pixel_3_0', 'pixel_3_1', 'pixel_3_2', 'pixel_3_3', 'pixel_3_4', 'pixel_3_5', 'pixel_3_6', 'pixel_3_7', 'pixel_4_0', 'pixel_4_1', 'pixel_4_2', 'pixel_4_3', 'pixel_4_4', 'pixel_4_5', 'pixel_4_6', 'pixel_4_7', 'pixel_5_0', 'pixel_5_1', 'pixel_5_2', 'pixel_5_3', 'pixel_5_4', 'pixel_5_5', 'pixel_5_6', 'pixel_5_7', 'pixel_6_0', 'pixel_6_1', 'pixel_6_2', 'pixel_6_3', 'pixel_6_4', 'pixel_6_5', 'pixel_6_6', 'pixel_6_7', 'pixel_7_0', 'pixel_7_1', 'pixel_7_2', 'pixel_7_3', 'pixel_7_4', 'pixel_7_5', 'pixel_7_6', 'pixel_7_7']\n",
            "Labels:  [0 1 2 3 4 5 6 7 8 9]\n"
          ]
        }
      ]
    },
    {
      "cell_type": "markdown",
      "source": [
        "## 🤖 SVM Model Training\n",
        "\n",
        "We initialize and train an SVM classifier using the training data.\n"
      ],
      "metadata": {
        "id": "IFcZRwUhJaBW"
      }
    },
    {
      "cell_type": "code",
      "source": [
        "X_train, X_test, y_train, y_test = train_test_split(X, y, test_size=0.2, random_state=42)"
      ],
      "metadata": {
        "id": "z0nKZ1NREclv"
      },
      "execution_count": 30,
      "outputs": []
    },
    {
      "cell_type": "code",
      "source": [
        "from sklearn import svm\n",
        "#Create a svm Classifier\n",
        "clf = svm.SVC(kernel='linear') # Linear Kernel"
      ],
      "metadata": {
        "id": "qpoDEXR4FQz6"
      },
      "execution_count": 31,
      "outputs": []
    },
    {
      "cell_type": "markdown",
      "source": [
        "## ✅ Model Prediction and Evaluation\n",
        "\n",
        "We predict the test dataset and calculate the accuracy score to evaluate the model's performance.\n"
      ],
      "metadata": {
        "id": "JozE6XLHJdrb"
      }
    },
    {
      "cell_type": "code",
      "source": [
        "clf.fit(X_train, y_train)\n",
        "y_pred = clf.predict(X_test)"
      ],
      "metadata": {
        "id": "EklOOMJDFV9f"
      },
      "execution_count": 32,
      "outputs": []
    },
    {
      "cell_type": "code",
      "source": [
        "from sklearn import metrics\n",
        "print(\"Accuracy:\",metrics.accuracy_score(y_test, y_pred))"
      ],
      "metadata": {
        "colab": {
          "base_uri": "https://localhost:8080/"
        },
        "id": "BlKgwPamFbtk",
        "outputId": "c9bcab42-bfd1-4b59-c246-96cd8896c3b6"
      },
      "execution_count": 33,
      "outputs": [
        {
          "output_type": "stream",
          "name": "stdout",
          "text": [
            "Accuracy: 0.9777777777777777\n"
          ]
        }
      ]
    },
    {
      "cell_type": "code",
      "source": [
        "plt.figure(figsize=(8,6))\n",
        "plt.scatter(y_test, y_pred, alpha=0.5)\n",
        "plt.xlabel(\"True Values\")\n",
        "plt.ylabel(\"Predicted Values\")\n",
        "plt.title(\"True vs Predicted Values\")\n",
        "plt.plot([y_test.min(), y_test.max()], [y_test.min(), y_test.max()], 'r--')\n",
        "plt.show()"
      ],
      "metadata": {
        "colab": {
          "base_uri": "https://localhost:8080/",
          "height": 537
        },
        "id": "h2cHU06JGLDC",
        "outputId": "fce14492-ac79-44a0-d2ac-953d35aa1ff6"
      },
      "execution_count": 34,
      "outputs": [
        {
          "output_type": "display_data",
          "data": {
            "text/plain": [
              "<Figure size 800x600 with 1 Axes>"
            ],
            "image/png": "[encoded data removed]"
          },
          "metadata": {}
        }
      ]
    },
    {
      "cell_type": "markdown",
      "source": [
        "## 📈 Scatter Plot - True vs Predicted Values\n",
        "\n",
        "The scatter plot below compares the true values with the model's predictions.\n",
        "A perfect model would have all points aligned along the diagonal.\n"
      ],
      "metadata": {
        "id": "MO_9J8UnJhi-"
      }
    },
    {
      "cell_type": "code",
      "source": [
        "from sklearn.metrics import ConfusionMatrixDisplay\n",
        "ConfusionMatrixDisplay.from_estimator(clf, X_test, y_test, cmap='Blues')\n",
        "plt.show()\n"
      ],
      "metadata": {
        "colab": {
          "base_uri": "https://localhost:8080/",
          "height": 449
        },
        "id": "_stJsrC7HOZY",
        "outputId": "5c03122c-2a82-4178-80a3-869a4c9fc668"
      },
      "execution_count": 35,
      "outputs": [
        {
          "output_type": "display_data",
          "data": {
            "text/plain": [
              "<Figure size 640x480 with 2 Axes>"
            ],
            "image/png": "[encoded data removed]"
          },
          "metadata": {}
        }
      ]
    },
    {
      "cell_type": "markdown",
      "source": [
        "## 🔄 Confusion Matrix - Model Evaluation\n",
        "\n",
        "The confusion matrix below shows the performance of the SVM classifier,\n",
        "highlighting which digits were correctly predicted and where the model struggled.\n"
      ],
      "metadata": {
        "id": "eXwTZZLtJjTZ"
      }
    },
    {
      "cell_type": "markdown",
      "source": [
        "## 📌 Conclusion\n",
        "\n",
        "- The SVM model shows strong performance on the Digits dataset.\n",
        "- The confusion matrix provides insights into which classes are harder to predict.\n",
        "- Further improvements could include hyperparameter tuning or trying different kernels (e.g., 'rbf').\n"
      ],
      "metadata": {
        "id": "cjLfUdyiJkrO"
      }
    }
  ]
}